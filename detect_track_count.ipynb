{
 "cells": [
  {
   "cell_type": "code",
   "execution_count": 1,
   "id": "e3aefb7f-3e36-4b44-9b35-0089e2019f7a",
   "metadata": {},
   "outputs": [],
   "source": [
    "#import sys\n",
    "#print(sys.version)"
   ]
  },
  {
   "cell_type": "code",
   "execution_count": 1,
   "id": "952447c5-2882-4096-9fb3-3f61099349fd",
   "metadata": {},
   "outputs": [
    {
     "name": "stdout",
     "output_type": "stream",
     "text": [
      "^C\n",
      "Note: you may need to restart the kernel to use updated packages.\n"
     ]
    }
   ],
   "source": [
    "%pip install ultralytics"
   ]
  },
  {
   "cell_type": "code",
   "execution_count": 3,
   "id": "200a53af-ba38-4a44-9245-0f8c1ce871db",
   "metadata": {},
   "outputs": [
    {
     "name": "stderr",
     "output_type": "stream",
     "text": [
      "/Users/carlotacortes/Library/Python/3.8/lib/python/site-packages/urllib3/__init__.py:35: NotOpenSSLWarning: urllib3 v2 only supports OpenSSL 1.1.1+, currently the 'ssl' module is compiled with 'LibreSSL 2.8.3'. See: https://github.com/urllib3/urllib3/issues/3020\n",
      "  warnings.warn(\n"
     ]
    },
    {
     "data": {
      "text/plain": [
       "'8.3.7'"
      ]
     },
     "execution_count": 3,
     "metadata": {},
     "output_type": "execute_result"
    }
   ],
   "source": [
    "import ultralytics\n",
    "ultralytics.__version__"
   ]
  },
  {
   "cell_type": "code",
   "execution_count": 4,
   "id": "2c260943-b848-4670-bc48-5601b74ab0bd",
   "metadata": {},
   "outputs": [
    {
     "name": "stdout",
     "output_type": "stream",
     "text": [
      "PRO TIP 💡 Replace 'model=yolov5n.pt' with new 'model=yolov5nu.pt'.\n",
      "YOLOv5 'u' models are trained with https://github.com/ultralytics/ultralytics and feature improved performance vs standard YOLOv5 models trained with https://github.com/ultralytics/yolov5.\n",
      "\n"
     ]
    }
   ],
   "source": [
    "# Not training the model, just using pretrained model trained on COCO dataset. \n",
    "# Aquest dataset té som vehicles a part d'altres objectes.\n",
    "#Fer servir aquest model per la detecció i després track i count\n",
    "import cv2\n",
    "import pandas as pd\n",
    "from ultralytics import YOLO\n",
    "from tracker import*\n",
    "\n",
    "model=YOLO('yolov5n.pt')"
   ]
  },
  {
   "cell_type": "code",
   "execution_count": 5,
   "id": "54e982ba-73a7-49d1-93eb-bb69723a692a",
   "metadata": {},
   "outputs": [],
   "source": [
    "#list of COCO dataset classes\n",
    "class_list = ['person', 'bicycle', 'car', 'motorcycle', 'airplane', 'bus', 'train', 'truck', 'boat', 'traffic light', 'fire hydrant', 'stop sign', 'parking meter', 'bench', 'bird', 'cat', 'dog', 'horse', 'sheep', 'cow', 'elephant', 'bear', 'zebra', 'giraffe', 'backpack', 'umbrella', 'handbag', 'tie', 'suitcase', 'frisbee', 'skis', 'snowboard', 'sports ball', 'kite', 'baseball bat', 'baseball glove', 'skateboard', 'surfboard', 'tennis racket', 'bottle', 'wine glass', 'cup', 'fork', 'knife', 'spoon', 'bowl', 'banana', 'apple', 'sandwich', 'orange', 'broccoli', 'carrot', 'hot dog', 'pizza', 'donut', 'cake', 'chair', 'couch', 'potted plant', 'bed', 'dining table', 'toilet', 'tv', 'laptop', 'mouse', 'remote', 'keyboard', 'cell phone', 'microwave', 'oven', 'toaster', 'sink', 'refrigerator', 'book', 'clock', 'vase', 'scissors', 'teddy bear', 'hair drier', 'toothbrush']"
   ]
  },
  {
   "cell_type": "code",
   "execution_count": 6,
   "id": "e629ccb1-8ddf-4a16-a604-6606f9f4c447",
   "metadata": {},
   "outputs": [],
   "source": [
    "#creant una instancia de tracker que ve de from tracker import*\n",
    "tracker=Tracker()\n",
    "count=0"
   ]
  },
  {
   "cell_type": "code",
   "execution_count": 7,
   "id": "38d0e991-23f5-4eee-93da-9486c77a4aff",
   "metadata": {},
   "outputs": [],
   "source": [
    "#llegir el video\n",
    "cap=cv2.VideoCapture('/Users/carlotacortes/Desktop/video1min.mp4')"
   ]
  },
  {
   "cell_type": "code",
   "execution_count": 8,
   "id": "f6a76103-221f-40ae-9365-dabbff2f0d12",
   "metadata": {},
   "outputs": [],
   "source": [
    "#VARIABLES PER GUARDAR COTXES UP I DOWN\n",
    "down={}\n",
    "up={}\n",
    "\n",
    "counter_down=[]\n",
    "counter_up=[]"
   ]
  },
  {
   "cell_type": "code",
   "execution_count": 1,
   "id": "b3658831-aaea-40b9-96f4-0dad7be11d34",
   "metadata": {},
   "outputs": [
    {
     "ename": "NameError",
     "evalue": "name 'cap' is not defined",
     "output_type": "error",
     "traceback": [
      "\u001b[1;31m---------------------------------------------------------------------------\u001b[0m",
      "\u001b[1;31mNameError\u001b[0m                                 Traceback (most recent call last)",
      "Cell \u001b[1;32mIn[1], line 8\u001b[0m\n\u001b[0;32m      5\u001b[0m start_time \u001b[38;5;241m=\u001b[39m time\u001b[38;5;241m.\u001b[39mtime()\n\u001b[0;32m      7\u001b[0m \u001b[38;5;28;01mwhile\u001b[39;00m \u001b[38;5;28;01mTrue\u001b[39;00m:\n\u001b[1;32m----> 8\u001b[0m     ret, frame \u001b[38;5;241m=\u001b[39m \u001b[43mcap\u001b[49m\u001b[38;5;241m.\u001b[39mread()\n\u001b[0;32m      9\u001b[0m     \u001b[38;5;28;01mif\u001b[39;00m \u001b[38;5;129;01mnot\u001b[39;00m ret:\n\u001b[0;32m     10\u001b[0m         \u001b[38;5;28;01mbreak\u001b[39;00m\n",
      "\u001b[1;31mNameError\u001b[0m: name 'cap' is not defined"
     ]
    }
   ],
   "source": [
    "import time\n",
    "\n",
    "# Initialize the FPS counter\n",
    "fps = 0\n",
    "start_time = time.time()\n",
    "\n",
    "while True:\n",
    "    ret, frame = cap.read()\n",
    "    if not ret:\n",
    "        break\n",
    "    count += 1\n",
    "    # RESOLUCIO IMATGE ORIGINAL: 960X540\n",
    "    # BAIXAR RESOLUCIO\n",
    "    frame = cv2.resize(frame, (270, 480))\n",
    "\n",
    "    # Saltar 1 de cada 2 frames\n",
    "    if count % 2 != 0:\n",
    "        fps += 1\n",
    "        end_time = time.time()\n",
    "        elapsed_time = end_time - start_time\n",
    "        if elapsed_time > 0:\n",
    "            current_fps = fps / elapsed_time\n",
    "            cv2.putText(frame, f'FPS: {round(current_fps, 2)}', (10, 30), cv2.FONT_HERSHEY_SIMPLEX, 0.6, (255, 255, 255), 2)\n",
    "            cv2.line(frame, (0, 400), (800, 400), (0, 0, 255), 3)  # red line\n",
    "            cv2.line(frame, (0, 450), (850, 450), (255, 0, 0), 3)  # blue line\n",
    "        cv2.imshow(\"frames\", frame)\n",
    "        if cv2.waitKey(1) & 0xFF == 27:\n",
    "            break\n",
    "        continue\n",
    "\n",
    "    # Convertir el frame a grisos per anar més ràpid: \n",
    "    # No es pot utilitzar perquè YOLO treballa en RGB\n",
    "    # frame_gray = cv2.cvtColor(frame, cv2.COLOR_BGR2GRAY)\n",
    "\n",
    "    # YOLO Prediction\n",
    "    results = model.predict(frame)\n",
    "\n",
    "    # aconseguint les dades de la bounding box i confiança\n",
    "    a = results[0].boxes.data\n",
    "    a = a.detach().cpu().numpy()\n",
    "    px = pd.DataFrame(a).astype(\"float\")\n",
    "\n",
    "    # only work with car class. only count cars. Quedarnos bounding box dels cars\n",
    "    car_bboxes = []\n",
    "    for index, row in px.iterrows():\n",
    "        x1 = int(row[0])\n",
    "        y1 = int(row[1])\n",
    "        x2 = int(row[2])\n",
    "        y2 = int(row[3])\n",
    "        d = int(row[5])\n",
    "        c = class_list[d]\n",
    "        if 'car' in c:\n",
    "            car_bboxes.append([x1, y1, x2, y2])\n",
    "\n",
    "    # provide les coordinades al tracker\n",
    "    bbox_id = tracker.update(car_bboxes)\n",
    "\n",
    "    # draw bbox\n",
    "    for bbox in bbox_id:\n",
    "        x3, y3, x4, y4, id = bbox\n",
    "        cx = int((x3 + x4) // 2)\n",
    "        cy = int((y3 + y4) // 2)\n",
    "\n",
    "        # Draw bounding box and ID\n",
    "        # cv2.rectangle(frame, (x3, y3), (x4, y4), (0, 255, 0), 2)\n",
    "        # cv2.putText(frame, f'ID: {id}', (x3, y3 - 10), cv2.FONT_HERSHEY_SIMPLEX, 0.6, (255, 255, 255), 2)\n",
    "\n",
    "        # Update down/up counters\n",
    "        red_line_y = 400\n",
    "        blue_line_y = 450\n",
    "        offset = 7\n",
    "\n",
    "        # DOWNWARDS condition: red line first, then blue line\n",
    "        if red_line_y < (cy + offset) and red_line_y > (cy - offset):\n",
    "            down[id] = cy\n",
    "        if id in down:\n",
    "            if blue_line_y < (cy + offset) and blue_line_y > (cy - offset):\n",
    "                cv2.circle(frame, (cx, cy), 4, (0, 0, 255), -1)  # red dot\n",
    "                cv2.putText(frame, str(id), (cx, cy), cv2.FONT_HERSHEY_COMPLEX, 0.8, (0, 255, 255), 2)\n",
    "                counter_down.append(id)  # list\n",
    "\n",
    "        # UPWARDS condition: blue line first, then red line\n",
    "        if blue_line_y < (cy + offset) and blue_line_y > (cy - offset):\n",
    "            up[id] = cy\n",
    "        if id in up:\n",
    "            if red_line_y < (cy + offset) and red_line_y > (cy - offset):\n",
    "                cv2.circle(frame, (cx, cy), 4, (0, 0, 255), -1)  # red dot\n",
    "                cv2.putText(frame, str(id), (cx, cy), cv2.FONT_HERSHEY_COMPLEX, 0.8, (0, 255, 255), 2)\n",
    "                counter_up.append(id)  # list\n",
    "\n",
    "    # Draw lines\n",
    "    cv2.line(frame, (0, 400), (800, 400), (0, 0, 255), 3)  # red line\n",
    "    cv2.line(frame, (0, 450), (850, 450), (255, 0, 0), 3)  # blue line\n",
    "\n",
    "    # Show counters on the frame\n",
    "    downwards = len(set(counter_down))\n",
    "    upwards = len(set(counter_up))\n",
    "\n",
    "    print(f\"Baixada: {downwards}\")\n",
    "    print(f\"Pujada: {upwards}\")\n",
    "\n",
    "\n",
    "    # FPS calculation\n",
    "    fps += 1\n",
    "    end_time = time.time()\n",
    "    elapsed_time = end_time - start_time\n",
    "    if elapsed_time > 0:\n",
    "        current_fps = fps / elapsed_time\n",
    "        cv2.putText(frame, f'FPS: {round(current_fps, 2)}', (10, 30), cv2.FONT_HERSHEY_SIMPLEX, 0.6, (255, 255, 255), 2)\n",
    "    cv2.imshow(\"frames\", frame)\n",
    "    if cv2.waitKey(1) & 0xFF == 27:\n",
    "        break\n",
    "\n",
    "cap.release()\n",
    "cv2.destroyAllWindows()\n"
   ]
  }
 ],
 "metadata": {
  "kernelspec": {
   "display_name": "Python 3",
   "language": "python",
   "name": "python3"
  },
  "language_info": {
   "codemirror_mode": {
    "name": "ipython",
    "version": 3
   },
   "file_extension": ".py",
   "mimetype": "text/x-python",
   "name": "python",
   "nbconvert_exporter": "python",
   "pygments_lexer": "ipython3",
   "version": "3.11.1"
  }
 },
 "nbformat": 4,
 "nbformat_minor": 5
}
