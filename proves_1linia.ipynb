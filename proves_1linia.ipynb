{
 "cells": [
  {
   "cell_type": "code",
   "execution_count": null,
   "metadata": {},
   "outputs": [],
   "source": [
    "#import sys\n",
    "#print(sys.version)"
   ]
  },
  {
   "cell_type": "code",
   "execution_count": null,
   "metadata": {},
   "outputs": [],
   "source": [
    "%pip install ultralytics"
   ]
  },
  {
   "cell_type": "code",
   "execution_count": null,
   "metadata": {},
   "outputs": [],
   "source": [
    "import ultralytics\n",
    "ultralytics.__version__"
   ]
  },
  {
   "cell_type": "code",
   "execution_count": null,
   "metadata": {},
   "outputs": [],
   "source": [
    "# Not training the model, just using pretrained model trained on COCO dataset. \n",
    "# Aquest dataset té som vehicles a part d'altres objectes.\n",
    "#Fer servir aquest model per la detecció i després track i count\n",
    "import cv2\n",
    "import pandas as pd\n",
    "from ultralytics import YOLO\n",
    "from tracker import*\n",
    "\n",
    "model=YOLO('yolov5n.pt')"
   ]
  },
  {
   "cell_type": "code",
   "execution_count": null,
   "metadata": {},
   "outputs": [],
   "source": [
    "#list of COCO dataset classes\n",
    "class_list = ['person', 'bicycle', 'car', 'motorcycle', 'airplane', 'bus', 'train', 'truck', 'boat', 'traffic light', 'fire hydrant', 'stop sign', 'parking meter', 'bench', 'bird', 'cat', 'dog', 'horse', 'sheep', 'cow', 'elephant', 'bear', 'zebra', 'giraffe', 'backpack', 'umbrella', 'handbag', 'tie', 'suitcase', 'frisbee', 'skis', 'snowboard', 'sports ball', 'kite', 'baseball bat', 'baseball glove', 'skateboard', 'surfboard', 'tennis racket', 'bottle', 'wine glass', 'cup', 'fork', 'knife', 'spoon', 'bowl', 'banana', 'apple', 'sandwich', 'orange', 'broccoli', 'carrot', 'hot dog', 'pizza', 'donut', 'cake', 'chair', 'couch', 'potted plant', 'bed', 'dining table', 'toilet', 'tv', 'laptop', 'mouse', 'remote', 'keyboard', 'cell phone', 'microwave', 'oven', 'toaster', 'sink', 'refrigerator', 'book', 'clock', 'vase', 'scissors', 'teddy bear', 'hair drier', 'toothbrush']"
   ]
  },
  {
   "cell_type": "code",
   "execution_count": null,
   "metadata": {},
   "outputs": [],
   "source": [
    "#creant una instancia de tracker que ve de from tracker import*\n",
    "tracker=Tracker()\n",
    "count=0"
   ]
  },
  {
   "cell_type": "code",
   "execution_count": null,
   "metadata": {},
   "outputs": [],
   "source": [
    "#llegir el video\n",
    "cap=cv2.VideoCapture('C:/Users/macia/OneDrive/Escriptori/4t GED/PSIV/Repte2-proves/output7.mp4')"
   ]
  },
  {
   "cell_type": "code",
   "execution_count": null,
   "metadata": {},
   "outputs": [],
   "source": [
    "#VARIABLES PER GUARDAR COTXES UP I DOWN\n",
    "down={}\n",
    "up={}\n",
    "\n",
    "counter_down=[]\n",
    "counter_up=[]"
   ]
  },
  {
   "cell_type": "code",
   "execution_count": null,
   "metadata": {},
   "outputs": [],
   "source": [
    "import time\n",
    "\n",
    "# Inicialitzar el comptador de FPS\n",
    "fps = 0\n",
    "start_time = time.time()\n",
    "\n",
    "# Bucle infinit per processar el vídeo frame a frame\n",
    "while True:\n",
    "    # Llegir un nou frame de la captura de vídeo\n",
    "    ret, frame = cap.read()\n",
    "    if not ret:  # Si no hi ha més frames, surt del bucle\n",
    "        break\n",
    "    count += 1\n",
    "\n",
    "    # RESOLUCIÓ IMATGE ORIGINAL: 960X540\n",
    "    # REDUIR RESOLUCIÓ a 270x480\n",
    "    frame = cv2.resize(frame, (270, 480))\n",
    "\n",
    "    # Saltar 1 de cada 2 frames per processar menys imatges\n",
    "    if count % 2 != 0:\n",
    "        fps += 1\n",
    "        end_time = time.time()\n",
    "        elapsed_time = end_time - start_time\n",
    "        if elapsed_time > 0:\n",
    "            # Calcular FPS actuals\n",
    "            current_fps = fps / elapsed_time\n",
    "            # Mostrar els FPS al frame\n",
    "            cv2.putText(frame, f'FPS: {round(current_fps, 2)}', (10, 30), cv2.FONT_HERSHEY_SIMPLEX, 0.6, (255, 255, 255), 2)\n",
    "            # Dibuixar la línia única al frame per detectar el moviment\n",
    "            cv2.line(frame, (0, 400), (800, 400), (0, 0, 255), 3)  # línia vermella (única)\n",
    "        # Mostrar el frame\n",
    "        cv2.imshow(\"frames\", frame)\n",
    "        if cv2.waitKey(1) & 0xFF == 27:  # Si es prem ESC, sortir del bucle\n",
    "            break\n",
    "        continue\n",
    "\n",
    "    # Predicció amb YOLO\n",
    "    results = model.predict(frame)\n",
    "\n",
    "    # Obtenir les dades de la bounding box i la confiança de la predicció\n",
    "    a = results[0].boxes.data\n",
    "    a = a.detach().cpu().numpy()\n",
    "    px = pd.DataFrame(a).astype(\"float\")\n",
    "\n",
    "    # Filtrar només les bounding boxes de cotxes\n",
    "    car_bboxes = []\n",
    "    for index, row in px.iterrows():\n",
    "        x1 = int(row[0])\n",
    "        y1 = int(row[1])\n",
    "        x2 = int(row[2])\n",
    "        y2 = int(row[3])\n",
    "        d = int(row[5])\n",
    "        c = class_list[d]  # Obtenir la classe de l'objecte detectat\n",
    "        if 'car' in c:  # Si l'objecte és un cotxe, guardar la seva bounding box\n",
    "            car_bboxes.append([x1, y1, x2, y2])\n",
    "\n",
    "    # Proporcionar les coordenades de les bounding boxes al tracker\n",
    "    bbox_id = tracker.update(car_bboxes)\n",
    "\n",
    "    # Dibuixar les bounding boxes i els IDs al frame\n",
    "    for bbox in bbox_id:\n",
    "        x3, y3, x4, y4, id = bbox\n",
    "        cx = int((x3 + x4) // 2)  # Coordenada central de la bounding box (x)\n",
    "        cy = int((y3 + y4) // 2)  # Coordenada central de la bounding box (y)\n",
    "\n",
    "        # Actualitzar comptadors de cotxes que baixen o pugen\n",
    "        line_y = 400  # Coordenada y de la línia única\n",
    "        offset = 7  # Margen d'error per la detecció de passos per la línia\n",
    "\n",
    "        # Si el cotxe estava a la part superior i després passa a la part inferior, comptar com a baixada\n",
    "        if cy < line_y - offset:  # Cotxe a la part superior de la línia\n",
    "            down[id] = cy  # Guardar la y del cotxe quan està a la part superior\n",
    "        if id in down:\n",
    "            if cy > line_y + offset:  # Cotxe passa a la part inferior\n",
    "                # Dibuixar un punt vermell al cotxe que baixa\n",
    "                cv2.circle(frame, (cx, cy), 4, (0, 0, 255), -1)  # punt vermell\n",
    "                # Mostrar l'ID del cotxe al frame\n",
    "                cv2.putText(frame, str(id), (cx, cy), cv2.FONT_HERSHEY_COMPLEX, 0.8, (0, 255, 255), 2)\n",
    "                counter_down.append(id)  # Afegir l'ID a la llista de cotxes que baixen\n",
    "\n",
    "        # Si el cotxe estava a la part inferior i després passa a la part superior, comptar com a pujada\n",
    "        if cy > line_y + offset:  # Cotxe a la part inferior de la línia\n",
    "            up[id] = cy  # Guardar la y del cotxe quan està a la part inferior\n",
    "        if id in up:\n",
    "            if cy < line_y - offset:  # Cotxe passa a la part superior\n",
    "                # Dibuixar un punt vermell al cotxe que puja\n",
    "                cv2.circle(frame, (cx, cy), 4, (0, 0, 255), -1)  # punt vermell\n",
    "                # Mostrar l'ID del cotxe al frame\n",
    "                cv2.putText(frame, str(id), (cx, cy), cv2.FONT_HERSHEY_COMPLEX, 0.8, (0, 255, 255), 2)\n",
    "                counter_up.append(id)  # Afegir l'ID a la llista de cotxes que pugen\n",
    "\n",
    "    # Dibuixar la línia vermella al frame\n",
    "    cv2.line(frame, (0, 400), (800, 400), (0, 0, 255), 3)  # línia vermella (única)\n",
    "\n",
    "    # Mostrar el nombre de cotxes que han baixat i pujat\n",
    "    downwards = len(set(counter_down))  # Comptar cotxes únics que han baixat\n",
    "    upwards = len(set(counter_up))  # Comptar cotxes únics que han pujat\n",
    "\n",
    "    # Imprimir els resultats\n",
    "    print(f\"Baixada: {downwards}\")\n",
    "    print(f\"Pujada: {upwards}\")\n",
    "\n",
    "    # Càlcul de FPS (frames per segon)\n",
    "    fps += 1\n",
    "    end_time = time.time()\n",
    "    elapsed_time = end_time - start_time\n",
    "    if elapsed_time > 0:\n",
    "        # Calcular i mostrar els FPS al frame\n",
    "        current_fps = fps / elapsed_time\n",
    "        cv2.putText(frame, f'FPS: {round(current_fps, 2)}', (10, 30), cv2.FONT_HERSHEY_SIMPLEX, 0.6, (255, 255, 255), 2)\n",
    "\n",
    "    # Mostrar el frame actualitzat\n",
    "    cv2.imshow(\"frames\", frame)\n",
    "    if cv2.waitKey(1) & 0xFF == 27:  # Sortir si es prem la tecla ESC\n",
    "        break\n",
    "\n",
    "# Alliberar la captura de vídeo i destruir totes les finestres\n",
    "cap.release()\n",
    "cv2.destroyAllWindows()\n"
   ]
  }
 ],
 "metadata": {
  "kernelspec": {
   "display_name": "Python 3",
   "language": "python",
   "name": "python3"
  },
  "language_info": {
   "name": "python",
   "version": "3.12.3"
  }
 },
 "nbformat": 4,
 "nbformat_minor": 2
}
